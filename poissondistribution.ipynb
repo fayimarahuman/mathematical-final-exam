{
 "cells": [
  {
   "cell_type": "markdown",
   "id": "44d7bcc5-4fe6-4788-8a22-57627062ca3f",
   "metadata": {},
   "source": [
    "### No.6(i)"
   ]
  },
  {
   "cell_type": "code",
   "execution_count": 7,
   "id": "37cf0b24-59c7-4056-b003-44e7ea7d878d",
   "metadata": {},
   "outputs": [],
   "source": [
    "from numpy import random"
   ]
  },
  {
   "cell_type": "code",
   "execution_count": 8,
   "id": "846b1164-032b-4c4c-ada3-f26ccf9bbe4d",
   "metadata": {},
   "outputs": [],
   "source": [
    "import seaborn as sns\n"
   ]
  },
  {
   "cell_type": "code",
   "execution_count": 9,
   "id": "92133ff6-f032-44d8-996f-e9ac9c584f51",
   "metadata": {},
   "outputs": [],
   "source": [
    "import matplotlib.pyplot as plt"
   ]
  },
  {
   "cell_type": "code",
   "execution_count": 10,
   "id": "68cdd957-1933-4180-88fd-10d6c6ba73ee",
   "metadata": {},
   "outputs": [
    {
     "name": "stdout",
     "output_type": "stream",
     "text": [
      "[ 2  3  4  5  4 11  6  5  4  6  6  1  3  1  7  3  6  5  5  3  5  4 10  4\n",
      "  6  5  5  7  3  3  7  5  5  4  4  8  4  4  4  3  6  5  3  6  5  1  5  5\n",
      "  6  3  9  2  5  4  2  3  5  7  6  5  5  3  2  3  3  8  5  6 10  6  3  6\n",
      "  6  5  4  2  6  8  6  4  4  2  6  7  6  4  4  7  3  4  5  2  6  5 12  5\n",
      "  6  3  6  6  4  7  7  4  6  4  3  6  5  6  8  7  8  4 10 10  3  3  3  4\n",
      "  4  5  3  5  4  8  3  9 11  9  3  3  5  2  7  6  5  4  6  7  8  8  5  2\n",
      "  3  7  4  5  6  5  2  9  6  3  7  6  3  9  6  0  3  4  3  7  8  4  8  6\n",
      "  2  3  5  4  4 11  7  6  3  7  5  6  7  4  5  6  4  6  6  5  9  2  4  1\n",
      "  7  5  4  6  5 10  6  5  4 12  7  2  5  4  4  5  6 10  4  2  7  8  6  3\n",
      "  2  8  4  6  8  6  6  5  6  5  8  4  5  5  4  3  8  4  5  6  9  4  5  7\n",
      "  3 10  6  7  7  2  5  3  4  4  3 10  7  5  6  1  4  3  5 10  1  7  6  4\n",
      "  4  4  8  8  6 10  4  7  3  5  6  5  1  8  4  5  6  5  5  6  6 11  4  3\n",
      "  8  3  4  4  6  7  3  5  6  4  3  3  2  5  5  7  5  5  6  5  1  4  3  6\n",
      "  4  2  8  3  2  6  4  6  9  4  5  3  7  4  3  8  6  2  7  2  3  7  3  3\n",
      "  5  3  7  4  6  4  8  6  7  4  6  7  4  7  2  2  6  5  7  3 11  2  9  2\n",
      "  6  8  4  3  6  3  3  7  4  2  6  3  6  9  4  3  6  3  6  5  3  8  3  4\n",
      "  6  3  6  7  2  2  2  8  6  1  7  4  3  3  3  4  8  5  5  4  7  4  5  4\n",
      "  6  4  8  5  3  4  5  5  7  4  8  4  6  6  3  3  6  6  7  2  6 10  9  6\n",
      "  2  4  3  5  7 10  3  5  6  5  9  7  6  8  3  3  4  3  3  4  5  5  6  4\n",
      "  9  7  5  3  8  2  5  3  5  6  3  4  4  3  5  6  8  9  5  4  3  6  2  2\n",
      "  8  2  3  4  6  5  3  8 11  5  6  5  6  3  5  4  4  6  6  6  7  8  9  7\n",
      "  3  5  7  8  3  2  3  6  5  5  4  2  3  2  6  3  5  4  5  9 11  5  4  3\n",
      "  2 11  6  8  7  7  6  2  5  5  5  9  6 10  4  7  2  8  4  4  7  3  4  8\n",
      "  4  7  1  8  6  9  2  2  2  6  9  6  0  4  5  6  6  7  2  5  9  8  8  5\n",
      "  6  5  6  2  4  6  9  6  6  3  5  4  3  4  7  7  4  7  9  2  4  6  5  6\n",
      "  5  6  3  4  3  5 10  8  4  7  2  6  8  8  6  5  3  6  5  4  7 10  4  0\n",
      "  7  2  5  6  2  8  5  3  1  9 10  3  5  6  5  3  7  7  4  4  2  2  2  5\n",
      "  4  2  4  7  5  7  2 10  4  7  1  4  5  7  7  5  8  4  4  9  4  5  8 10\n",
      "  0  8  4  7  9  9  4  9  6  2  4  2  6  3  4  9  3  4  3  4  2  9 10  7\n",
      "  3  2  4  2  8  8  5  9  4  4  5  5  8  3  6  8  7  3  7  7  8  3  7  7\n",
      "  2  3  8  8  5  2  5  4  2  4 10 11  9  4  6  7  3  4  5  3  5  6  3  7\n",
      "  4  4  2  6  4  8  5  3  5  3  5  6  7  8  5  2  5  2  1  5  8  3  5  3\n",
      "  3 13  7  5  4  0  5  5  3  5  3  4  6  3  8  2  7  4  5  5  9  5  2  5\n",
      "  2  6  5 10  6  5  4  4  3  4  5  3  4  6  3  3  4  2  5  7  4  3  5  5\n",
      "  1  9  2  9  4  5  7  5  9  9  4  4  6  5  2  8  5  3  8  6 10  5  2  6\n",
      "  7  6  1  6  4  7  2  6  8  6  5  3 10  6  7  2  3  7  6  6  6  7  7  3\n",
      "  5  7  7  7  4  6  8  4  4  8  7  1  3  4  2  8  2  9  6 12  3  4  5  4\n",
      "  4  5  6  3  8  7  9  4  4  6  2  4  7  3  3  5  3 10  4  6  4  4  5  3\n",
      "  4  4  3  7  3  3  9  4  6  3  8  7  8  8  5  7  8  4  6  6  5  4  4  2\n",
      "  4 11  5  8  1  3  5  6  9  4  4  9  7  6  3  2  6  6  7  3  5  3  6  6\n",
      "  1  7  4  3  8  4  7  9  2  8  3  4  3  9  8  4  6  2 10  5  5  8  6  5\n",
      "  3  2  3  4  6  1  7  3  2  4  6  2  6  3  5  2]\n"
     ]
    }
   ],
   "source": [
    "poisson_data= random.poisson(lam=5,size=(1000))\n",
    "print(poisson_data)"
   ]
  },
  {
   "cell_type": "markdown",
   "id": "a3ad3870-8550-4eae-88af-766855132c17",
   "metadata": {},
   "source": [
    "### No.6(iii)"
   ]
  },
  {
   "cell_type": "code",
   "execution_count": 16,
   "id": "08f7f306-1f28-4881-b80d-436e68480699",
   "metadata": {},
   "outputs": [
    {
     "data": {
      "image/png": "[encoded data removed]",
      "text/plain": [
       "<Figure size 640x480 with 1 Axes>"
      ]
     },
     "metadata": {},
     "output_type": "display_data"
    }
   ],
   "source": [
    "poisson_data=random.poisson(lam=5,size=(1000))\n",
    "sns.histplot(poisson_data,label=\"poisson\",color=\"red\")\n",
    "plt.title(\"Poisson distribution\")\n",
    "plt.xlabel(\"customers\")\n",
    "plt.ylabel(\"no of customer arrivals\")\n",
    "plt.legend()\n",
    "plt.show()"
   ]
  },
  {
   "cell_type": "markdown",
   "id": "0b0d0d9a-f503-4d3c-b4cc-8871a200f6d2",
   "metadata": {},
   "source": [
    "## No.6(ii)"
   ]
  },
  {
   "cell_type": "code",
   "execution_count": 12,
   "id": "62f60f01-9a39-4311-8f55-db5ba15682c3",
   "metadata": {},
   "outputs": [],
   "source": [
    "import numpy as np"
   ]
  },
  {
   "cell_type": "code",
   "execution_count": 13,
   "id": "ba10f0d3-967c-43e9-927b-d3dded93add3",
   "metadata": {},
   "outputs": [],
   "source": [
    "n=5\n",
    "p=0.005\n",
    "q=0.995"
   ]
  },
  {
   "cell_type": "code",
   "execution_count": 14,
   "id": "fb779e64-b6b1-4309-9bdc-a1b595f89183",
   "metadata": {},
   "outputs": [
    {
     "name": "stdout",
     "output_type": "stream",
     "text": [
      "0.025\n"
     ]
    }
   ],
   "source": [
    "mean=n*p\n",
    "print(mean)"
   ]
  },
  {
   "cell_type": "code",
   "execution_count": 15,
   "id": "d5299e60-4d7a-4c0f-8f12-308b9e2fd6bf",
   "metadata": {},
   "outputs": [
    {
     "name": "stdout",
     "output_type": "stream",
     "text": [
      "0.024875\n"
     ]
    }
   ],
   "source": [
    "variance=n*p*q\n",
    "print(variance)"
   ]
  },
  {
   "cell_type": "code",
   "execution_count": null,
   "id": "8a8c63cd-d267-4af1-8dba-f3c0d8e5208c",
   "metadata": {},
   "outputs": [],
   "source": []
  }
 ],
 "metadata": {
  "kernelspec": {
   "display_name": "Python 3 (ipykernel)",
   "language": "python",
   "name": "python3"
  },
  "language_info": {
   "codemirror_mode": {
    "name": "ipython",
    "version": 3
   },
   "file_extension": ".py",
   "mimetype": "text/x-python",
   "name": "python",
   "nbconvert_exporter": "python",
   "pygments_lexer": "ipython3",
   "version": "3.12.6"
  }
 },
 "nbformat": 4,
 "nbformat_minor": 5
}
