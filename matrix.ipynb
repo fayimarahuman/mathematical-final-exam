{
 "cells": [
  {
   "cell_type": "markdown",
   "id": "3c238f58-edf3-4be5-a123-ebbe6433d6de",
   "metadata": {},
   "source": [
    "## No.5(i)"
   ]
  },
  {
   "cell_type": "code",
   "execution_count": 1,
   "id": "5b9da2c2-be7d-4b90-988a-b65f13195c01",
   "metadata": {},
   "outputs": [],
   "source": [
    "import numpy as np"
   ]
  },
  {
   "cell_type": "code",
   "execution_count": 9,
   "id": "2d291892-33ea-478e-9009-e52dff41a02e",
   "metadata": {},
   "outputs": [
    {
     "name": "stdout",
     "output_type": "stream",
     "text": [
      "[[1.  0.2 0.5]\n",
      " [0.2 1.  0.8]\n",
      " [0.5 0.8 1. ]]\n"
     ]
    }
   ],
   "source": [
    "T=np.array([[1,0.2,0.5],[0.2,1,0.8],[0.5,0.8,1]])\n",
    "print(T)"
   ]
  },
  {
   "cell_type": "code",
   "execution_count": 14,
   "id": "9dd7d910-f7f8-4e2c-babf-efea3b2ac5d4",
   "metadata": {},
   "outputs": [
    {
     "name": "stdout",
     "output_type": "stream",
     "text": [
      "[[ 1.56521739  0.86956522 -1.47826087]\n",
      " [ 0.86956522  3.26086957 -3.04347826]\n",
      " [-1.47826087 -3.04347826  4.17391304]]\n"
     ]
    }
   ],
   "source": [
    "InverseT=np.linalg.inv(T)\n",
    "print(InverseT)"
   ]
  },
  {
   "cell_type": "markdown",
   "id": "ef2aa2a7-7660-4b75-9555-4dcdc0d104de",
   "metadata": {},
   "source": [
    "## No.5(ii)"
   ]
  },
  {
   "cell_type": "code",
   "execution_count": 15,
   "id": "9fc074f5-7b9b-4ae2-a9a2-ffa47c1c838a",
   "metadata": {},
   "outputs": [
    {
     "name": "stdout",
     "output_type": "stream",
     "text": [
      "0.2299999999999999\n"
     ]
    }
   ],
   "source": [
    "detT=np.linalg.det(T)\n",
    "print(detT)"
   ]
  },
  {
   "cell_type": "markdown",
   "id": "4c1785d4-3e03-4924-9db0-af7341427b38",
   "metadata": {},
   "source": [
    "### No.5(iv)"
   ]
  },
  {
   "cell_type": "code",
   "execution_count": 26,
   "id": "c9f72597-710e-4f16-8759-73a93b0667be",
   "metadata": {},
   "outputs": [
    {
     "name": "stdout",
     "output_type": "stream",
     "text": [
      "[[1.  0.2 0.5]\n",
      " [0.2 1.  0.8]\n",
      " [0.5 0.8 1. ]]\n"
     ]
    }
   ],
   "source": [
    "TransformT=np.transpose(T)\n",
    "print(TransformT)"
   ]
  },
  {
   "cell_type": "markdown",
   "id": "bdd1f3f1-5c10-4d4d-865b-4b1d9c6a64a1",
   "metadata": {},
   "source": [
    "### No.5(iii) "
   ]
  },
  {
   "cell_type": "code",
   "execution_count": 29,
   "id": "504d7fe9-221b-4511-9643-cdf8e07be04e",
   "metadata": {},
   "outputs": [
    {
     "name": "stdout",
     "output_type": "stream",
     "text": [
      "[[1.  0.2 0.5]\n",
      " [0.2 1.  0.8]]\n"
     ]
    }
   ],
   "source": [
    "DecomposeT=np.delete(T,2,axis=0)\n",
    "print(DecomposeT)"
   ]
  },
  {
   "cell_type": "code",
   "execution_count": null,
   "id": "89212e48-15a5-4d13-8fc5-7bd4a3900d0a",
   "metadata": {},
   "outputs": [],
   "source": []
  }
 ],
 "metadata": {
  "kernelspec": {
   "display_name": "Python 3 (ipykernel)",
   "language": "python",
   "name": "python3"
  },
  "language_info": {
   "codemirror_mode": {
    "name": "ipython",
    "version": 3
   },
   "file_extension": ".py",
   "mimetype": "text/x-python",
   "name": "python",
   "nbconvert_exporter": "python",
   "pygments_lexer": "ipython3",
   "version": "3.12.6"
  }
 },
 "nbformat": 4,
 "nbformat_minor": 5
}
